{
 "cells": [
  {
   "cell_type": "markdown",
   "id": "a54077d1-a893-4822-bf55-557a83be13bd",
   "metadata": {},
   "source": [
    "# 📌 Step 1: Install Required Libraries  \n",
    "Before running the notebook, ensure you have the necessary libraries installed.\n",
    "\n",
    "```python\n",
    "!pip install faiss-cpu mistralai beautifulsoup4 requests numpy"
   ]
  },
  {
   "cell_type": "code",
   "execution_count": 1,
   "id": "d593ef05-7594-4483-bdc8-47ac25612d08",
   "metadata": {},
   "outputs": [],
   "source": [
    "# !pip install faiss-cpu mistralai beautifulsoup4 requests numpy"
   ]
  },
  {
   "cell_type": "markdown",
   "id": "551c4545-238c-4ae1-8ec2-f6a1d81c9376",
   "metadata": {},
   "source": [
    "# 📌 Step 2: Set Up API Key  \n",
    "We'll use Mistral AI for embedding generation and chat-based responses.  \n",
    "Replace `\"YOUR_API_KEY\"` with your actual Mistral API key."
   ]
  },
  {
   "cell_type": "code",
   "execution_count": 3,
   "id": "e2e6317b-9ef1-4738-af02-f6b0487beb93",
   "metadata": {},
   "outputs": [
    {
     "name": "stdout",
     "output_type": "stream",
     "text": [
      "MISTRAL_API_KEY: hFS71eF2NzuvFCBQ00AMtrcaqUsqxX89Y\n"
     ]
    }
   ],
   "source": [
    "import os\n",
    "\n",
    "# Set up Mistral API Key\n",
    "os.environ[\"MISTRAL_API_KEY\"] = \"hFS71eF2NzuvFCBQ00AMtrcaqUsqxX89Y\"\n",
    "api_key = os.getenv(\"MISTRAL_API_KEY\")\n",
    "\n",
    "print(f\"MISTRAL_API_KEY: {api_key}\")  # Debugging check"
   ]
  },
  {
   "cell_type": "markdown",
   "id": "a8464d22-01db-4c41-a9fb-0a65d42e2667",
   "metadata": {},
   "source": [
    "# 📌 Step 3: Web Scraping - Extract Sports Facility Data  \n",
    "We'll scrape the **UDST Sports Facilities** webpage to extract facility names and descriptions."
   ]
  },
  {
   "cell_type": "code",
   "execution_count": 7,
   "id": "0bcc8021-02f2-4637-9c6d-75d0d3519678",
   "metadata": {},
   "outputs": [
    {
     "name": "stdout",
     "output_type": "stream",
     "text": [
      "Facility Name: Natural Grass Cricket Ground\n",
      "Description: Caters for both hardball and MRI. Appropriate lighting requirements for hosting evening/night events Amenities including covered seating, proper stump configuration, bowlers back drops\n",
      "--------------------------------------------------------------------------------\n",
      "Facility Name: Turf Football Pitch\n",
      "Description: A FIFA International standard 11v11 sectioned into three blue “cross pitches” Accommodates 7v7,8v8 or 9v9\n",
      "--------------------------------------------------------------------------------\n",
      "Facility Name: Outdoor Padel Courts\n",
      "Description: International standards, highly durable Outdoor Padel courts designed to withstand extreme weather conditions. Designated courts (Court 1) are adjusted to ensure privacy for female users.\n",
      "--------------------------------------------------------------------------------\n",
      "Facility Name: Running Track\n",
      "Description: International Athletics Federation approved 8-lane running track 8+ Participants per 60-minute session slot Track Dimensions: 400m (176.91m Full Length, 1.22m Lane Width)\n",
      "--------------------------------------------------------------------------------\n",
      "Facility Name: Beach Volleyball\n",
      "Description: Number of persons : 30 60-minute session\n",
      "--------------------------------------------------------------------------------\n",
      "Facility Name: Batting Cages\n",
      "Description: Fully floodlight cages Artificial cricket pitch enclosed by netting on either side, behind, and above. Bookers and guests are required to bring required equipment\n",
      "--------------------------------------------------------------------------------\n",
      "Facility Name: Female Swimming Pool\n",
      "Description: Female only heated 25m indoor swimming pool Shower and changeroom facilities Swim safety aids as required and ample equipment and accessories\n",
      "--------------------------------------------------------------------------------\n",
      "Facility Name: Female Leisure Center\n",
      "Description: Billiards Table PlayStation Gaming Console Air Hockey\n",
      "--------------------------------------------------------------------------------\n",
      "Facility Name: Female Fitness Room\n",
      "Description: Cardio machines Free weights, racks, and strength 90-minute session slot\n",
      "--------------------------------------------------------------------------------\n",
      "Facility Name: Male Fitness Room\n",
      "Description: Variety of cardio machines, free weights, racks, and strength machines 90-minute session slot\n",
      "--------------------------------------------------------------------------------\n",
      "Facility Name: Male Leisure Center\n",
      "Description: Billiards Table Tennis Foosball\n",
      "--------------------------------------------------------------------------------\n",
      "Facility Name: Male Swimming Pool\n",
      "Description: Male only heated 25m indoor swimming pool Shower and changeroom facilities Swim safety aids as required and ample equipment and accessories\n",
      "--------------------------------------------------------------------------------\n",
      "Facility Name: Outdoor Tennis Courts\n",
      "Description: World-leading DecoTurf multi-layered cushioned tennis surface Windbreaks and privacy screens to allow for enhanced comfort of partipants\n",
      "--------------------------------------------------------------------------------\n",
      "Facility Name: Sport Hall\n",
      "Description: High-quality indoor multi-sport hall provides the ideal surface Amenities for Basketball, Volleyball, Badminton, and Futsal. Court Dimensions: 35.5mx20.5m.\n",
      "--------------------------------------------------------------------------------\n",
      "Facility Name: Multipurpose Sport Hall\n",
      "Description: Multi-sport Courts suitable for: Basketball, Futsal, Handball, Volleyball and Tennis 60-minute sessions\n",
      "--------------------------------------------------------------------------------\n",
      "Facility Name: Indoor Padel Courts\n",
      "Description: 3 Indoor Padel Courts (2 courts will be adjusted for Female privacy) Seating capacity of approximately 600 persons 60-minute sessions\n",
      "--------------------------------------------------------------------------------\n",
      "Facility Name: Indoor Squash Courts\n",
      "Description: Bookers and Guests are encouraged to bring sufficient equipment. 60-minute sessions\n",
      "--------------------------------------------------------------------------------\n",
      "Facility Name: Spin Studio\n",
      "Description: Experience interactive indoor cycling system that enhances spin classes with real-time performance tracking, virtual rides, and group motivation. Heart rate monitors and bike sensors to display live stats, leaderboards, and virtual road simulations for an engaging workout. 50-minute sessions.\n",
      "--------------------------------------------------------------------------------\n",
      "Facility Name: eSport Arena\n",
      "Description: ExperiencePremium PC Gamingfor top-tier performance,Standard PC Gamingfor balanced play, orPS5 Gamingfor next-gen console action. Single-player for PCs, two-player access for PS5 60-minute sessions.\n",
      "--------------------------------------------------------------------------------\n"
     ]
    }
   ],
   "source": [
    "import requests\n",
    "from bs4 import BeautifulSoup\n",
    "\n",
    "# UDST Sports Facilities webpage URL\n",
    "url = \"https://www.udst.edu.qa/sport-and-wellness/our-facilities\"\n",
    "\n",
    "# Send a GET request\n",
    "response = requests.get(url)\n",
    "response.raise_for_status()  # Ensure request was successful\n",
    "\n",
    "# Parse the HTML\n",
    "soup = BeautifulSoup(response.text, 'html.parser')\n",
    "\n",
    "# Find all facility sections\n",
    "facility_sections = soup.find_all('div', class_='field-content')  # Adjust class if needed\n",
    "\n",
    "facilities = []\n",
    "\n",
    "# Extract facility information\n",
    "for facility_section in facility_sections:\n",
    "    facility_name_tag = facility_section.find('h3')  # Facility Name\n",
    "    facility_description_tag = facility_section.find('div', class_='field-name-body')  # Description container\n",
    "\n",
    "    if facility_name_tag and facility_description_tag:\n",
    "        facility_name = facility_name_tag.get_text(strip=True)\n",
    "        \n",
    "        # Extract all list items within the description section\n",
    "        description_list = facility_description_tag.find_all('li')\n",
    "        facility_description = \" \".join([item.get_text(strip=True) for item in description_list])  # Join text from <li> tags\n",
    "        \n",
    "        # Remove \"Book Now\" if present\n",
    "        facility_description = facility_description.replace(\"Book Now\", \"\").strip()\n",
    "        \n",
    "        facilities.append({'name': facility_name, 'description': facility_description})\n",
    "\n",
    "# Print extracted sports facilities details\n",
    "for facility in facilities:\n",
    "    print(f\"Facility Name: {facility['name']}\")\n",
    "    print(f\"Description: {facility['description']}\")\n",
    "    print('-' * 80)"
   ]
  },
  {
   "cell_type": "markdown",
   "id": "0cb779ed-9bce-41c1-9cdd-8e77abca3104",
   "metadata": {},
   "source": [
    "# 📌 Step 4: Preprocess Text for FAISS  \n",
    "We need to clean and split the facility descriptions before embedding them in FAISS."
   ]
  },
  {
   "cell_type": "code",
   "execution_count": 10,
   "id": "3cf2053b-2ec8-4ac5-a582-a09ec7397706",
   "metadata": {},
   "outputs": [
    {
     "name": "stdout",
     "output_type": "stream",
     "text": [
      "Total Chunks for Indexing: 19\n"
     ]
    }
   ],
   "source": [
    "# Ensure only relevant descriptions are indexed\n",
    "chunks = [facility['description'] for facility in facilities if facility['description']]\n",
    "\n",
    "# Clean the text to remove unnecessary whitespace and newlines\n",
    "chunks = [\" \".join(chunk.split()) for chunk in chunks]\n",
    "\n",
    "print(\"Total Chunks for Indexing:\", len(chunks))  # Debugging check"
   ]
  },
  {
   "cell_type": "markdown",
   "id": "bec9a871-2abb-4a2b-8263-7f3d10e59289",
   "metadata": {},
   "source": [
    "# 📌 Step 5: Generate Text Embeddings with Mistral  \n",
    "We'll convert each chunk into vector embeddings using the **Mistral embedding model**."
   ]
  },
  {
   "cell_type": "code",
   "execution_count": 15,
   "id": "cd78a1d9-bafc-4255-b95e-48971c62747d",
   "metadata": {},
   "outputs": [
    {
     "name": "stdout",
     "output_type": "stream",
     "text": [
      "Number of Embeddings: 19\n"
     ]
    }
   ],
   "source": [
    "import numpy as np\n",
    "from mistralai import Mistral\n",
    "\n",
    "# Function to generate embeddings\n",
    "def get_text_embedding(list_txt_chunks):\n",
    "    client = Mistral(api_key=api_key)\n",
    "    embeddings_batch_response = client.embeddings.create(model=\"mistral-embed\", inputs=list_txt_chunks)\n",
    "    return embeddings_batch_response.data\n",
    "\n",
    "# Generate embeddings for the text chunks\n",
    "text_embeddings = get_text_embedding(chunks)\n",
    "\n",
    "print(\"Number of Embeddings:\", len(text_embeddings))  # Debugging check"
   ]
  },
  {
   "cell_type": "markdown",
   "id": "d39ed8b2-2fbd-4c04-a5b9-5743060bf898",
   "metadata": {},
   "source": [
    "# 📌 Step 6: Store Embeddings in FAISS Index  \n",
    "We'll store our embeddings in a **FAISS vector database** for fast similarity searches."
   ]
  },
  {
   "cell_type": "code",
   "execution_count": 20,
   "id": "6559a706-0b76-407f-9406-159b37cc27ed",
   "metadata": {},
   "outputs": [
    {
     "name": "stdout",
     "output_type": "stream",
     "text": [
      "Total Embeddings Indexed: 19\n"
     ]
    }
   ],
   "source": [
    "import faiss\n",
    "\n",
    "# Get embedding dimension\n",
    "d = len(text_embeddings[0].embedding)\n",
    "\n",
    "# Create a FAISS index\n",
    "index = faiss.IndexFlatL2(d)\n",
    "\n",
    "# Convert embeddings into NumPy array and add them to the index\n",
    "embeddings_array = np.array([embedding.embedding for embedding in text_embeddings])\n",
    "index.add(embeddings_array)\n",
    "\n",
    "print(\"Total Embeddings Indexed:\", index.ntotal)  # Debugging check"
   ]
  },
  {
   "cell_type": "markdown",
   "id": "c86b0606-2f32-45ff-a7b4-330f2aebf4cf",
   "metadata": {},
   "source": [
    "# 📌 Step 7: Retrieve Relevant Chunks from FAISS  \n",
    "We'll query FAISS to find the most relevant chunks for a given question."
   ]
  },
  {
   "cell_type": "code",
   "execution_count": 23,
   "id": "bf14ca1b-510f-4aed-a66c-548a8c90ff2a",
   "metadata": {},
   "outputs": [
    {
     "name": "stdout",
     "output_type": "stream",
     "text": [
      "Indices: [[14 13]]\n",
      "Scores: [[0.44209975 0.5072693 ]]\n",
      "Retrieved Chunk: Multi-sport Courts suitable for: Basketball, Futsal, Handball, Volleyball and Tennis 60-minute sessions High-quality indoor multi-sport hall provides the ideal surface Amenities for Basketball, Volleyball, Badminton, and Futsal. Court Dimensions: 35.5mx20.5m.\n"
     ]
    }
   ],
   "source": [
    "question = \"What are the ways I can use sports facilities?\"\n",
    "question_embedding = np.array([get_text_embedding([question])[0].embedding])\n",
    "\n",
    "# Retrieve top 2 relevant chunks\n",
    "D, I = index.search(question_embedding, k=2)\n",
    "\n",
    "# Print retrieved chunk indices and their similarity scores\n",
    "print(\"Indices:\", I)\n",
    "print(\"Scores:\", D)\n",
    "\n",
    "# Extract the actual text chunks\n",
    "retrieved_chunk = [chunks[i] for i in I.tolist()[0]]\n",
    "\n",
    "# Clean the retrieved text\n",
    "retrieved_text = \" \".join(retrieved_chunk).replace(\"\\n\", \" \").strip()\n",
    "\n",
    "print(\"Retrieved Chunk:\", retrieved_text)"
   ]
  },
  {
   "cell_type": "markdown",
   "id": "2b7191ab-e73b-4b77-9ea4-cff6174130a1",
   "metadata": {},
   "source": [
    "# 📌 Step 8: Generate Answer Using Mistral  \n",
    "We'll use Mistral to generate a structured answer based on the retrieved text.\n"
   ]
  },
  {
   "cell_type": "code",
   "execution_count": 26,
   "id": "bb73ba22-820c-40ca-945a-4c19f596ff27",
   "metadata": {},
   "outputs": [
    {
     "name": "stdout",
     "output_type": "stream",
     "text": [
      "Based on the provided context, here are the ways you can use the sports facilities:\n",
      "\n",
      "1. **Sport Activities**:\n",
      "   - **Basketball**: You can play basketball games or have practice sessions.\n",
      "   - **Futsal**: The facility is suitable for futsal games and practices.\n",
      "   - **Handball**: You can use the court for handball games.\n",
      "   - **Volleyball**: The court can accommodate volleyball games and practices.\n",
      "   - **Tennis**: The facility is also suitable for tennis games.\n",
      "   - **Badminton**: You can play badminton games or have practice sessions.\n",
      "\n",
      "2. **Session Duration**:\n",
      "   - You can book the courts in 60-minute sessions for any of the above sports.\n",
      "\n",
      "3. **Amenities**:\n",
      "   - The high-quality indoor multi-sport hall provides amenities specifically designed for Basketball, Volleyball, Badminton, and Futsal. This could include appropriate court markings, nets, and hoops.\n",
      "\n",
      "4. **Court Dimensions**:\n",
      "   - The court dimensions are 35.5 meters by 20.5 meters, which accommodate the mentioned sports. You can use this space for various drills, exercises, and game strategies suited to these dimensions.\n",
      "\n",
      "By utilizing these facilities, you can engage in various sports activities, improve your skills, and enjoy recreational or competitive games.\n"
     ]
    }
   ],
   "source": [
    "from mistralai import UserMessage\n",
    "\n",
    "# Define the prompt\n",
    "prompt = f\"\"\"\n",
    "You are an AI assistant that provides structured answers based on retrieved knowledge.\n",
    "\n",
    "Context:\n",
    "---------------------\n",
    "{retrieved_text}\n",
    "---------------------\n",
    "\n",
    "Answer the following question in a structured format with numbered points.\n",
    "\n",
    "Query: {question}\n",
    "\n",
    "Answer:\n",
    "\"\"\"\n",
    "\n",
    "# Function to generate response\n",
    "def mistral(user_message, model=\"mistral-small-latest\", is_json=False):\n",
    "    client = Mistral(api_key=api_key)\n",
    "    messages = [UserMessage(content=user_message)]\n",
    "\n",
    "    chat_response = client.chat.complete(\n",
    "        model=\"mistral-large-latest\",\n",
    "        messages=messages,\n",
    "    )\n",
    "\n",
    "    return chat_response.choices[0].message.content\n",
    "\n",
    "# Get the AI-generated response\n",
    "response = mistral(prompt)\n",
    "print(response)"
   ]
  }
 ],
 "metadata": {
  "kernelspec": {
   "display_name": "Python 3 (ipykernel)",
   "language": "python",
   "name": "python3"
  },
  "language_info": {
   "codemirror_mode": {
    "name": "ipython",
    "version": 3
   },
   "file_extension": ".py",
   "mimetype": "text/x-python",
   "name": "python",
   "nbconvert_exporter": "python",
   "pygments_lexer": "ipython3",
   "version": "3.12.7"
  }
 },
 "nbformat": 4,
 "nbformat_minor": 5
}
